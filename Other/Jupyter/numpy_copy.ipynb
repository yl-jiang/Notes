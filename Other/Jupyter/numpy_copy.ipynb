{
 "cells": [
  {
   "cell_type": "code",
   "execution_count": 4,
   "metadata": {
    "ExecuteTime": {
     "end_time": "2019-12-17T01:06:10.760343Z",
     "start_time": "2019-12-17T01:06:10.751294Z"
    }
   },
   "outputs": [],
   "source": [
    "import h5py\n",
    "import PIL.Image as pil_image\n",
    "from pathlib import Path\n",
    "import re\n",
    "from torchvision.transforms import FiveCrop\n",
    "import matplotlib.pyplot as plt\n",
    "from tqdm import tqdm\n",
    "import numpy as np\n",
    "%matplotlib inline"
   ]
  },
  {
   "cell_type": "code",
   "execution_count": 6,
   "metadata": {
    "ExecuteTime": {
     "end_time": "2019-12-17T01:06:38.023196Z",
     "start_time": "2019-12-17T01:06:38.020664Z"
    }
   },
   "outputs": [],
   "source": [
    "a = np.arange(4)\n",
    "b = a  # 完全不复制\n",
    "c = a[:]  # 视图（浅复制）\n",
    "d = a.copy()  # 深复制"
   ]
  },
  {
   "cell_type": "code",
   "execution_count": 8,
   "metadata": {
    "ExecuteTime": {
     "end_time": "2019-12-17T01:07:34.332079Z",
     "start_time": "2019-12-17T01:07:34.329390Z"
    }
   },
   "outputs": [
    {
     "name": "stdout",
     "output_type": "stream",
     "text": [
      "id a: 140060645091568\n",
      "id b: 140060645091568\n",
      "id c: 140060645091168\n",
      "id d: 140060645091408\n"
     ]
    }
   ],
   "source": [
    "print(f'id a: {id(a)}')\n",
    "print(f'id b: {id(b)}')\n",
    "print(f'id c: {id(c)}')\n",
    "print(f'id d: {id(d)}')"
   ]
  },
  {
   "cell_type": "code",
   "execution_count": 11,
   "metadata": {
    "ExecuteTime": {
     "end_time": "2019-12-17T01:09:12.214974Z",
     "start_time": "2019-12-17T01:09:12.212000Z"
    }
   },
   "outputs": [
    {
     "name": "stdout",
     "output_type": "stream",
     "text": [
      "a owndata: True\n",
      "b owndata: True\n",
      "c owndata: False\n",
      "d owndata: True\n"
     ]
    }
   ],
   "source": [
    "print(f'a owndata: {a.flags.owndata}') \n",
    "print(f'b owndata: {b.flags.owndata}')\n",
    "print(f'c owndata: {c.flags.owndata}')\n",
    "print(f'd owndata: {d.flags.owndata}')"
   ]
  },
  {
   "cell_type": "code",
   "execution_count": 12,
   "metadata": {
    "ExecuteTime": {
     "end_time": "2019-12-17T01:11:31.186544Z",
     "start_time": "2019-12-17T01:11:31.183205Z"
    }
   },
   "outputs": [
    {
     "name": "stdout",
     "output_type": "stream",
     "text": [
      "a: [100   1   2   3]\n",
      "b: [100   1   2   3]\n",
      "c: [100   1   2   3]\n",
      "d: [0 1 2 3]\n"
     ]
    }
   ],
   "source": [
    "a[0] = 100\n",
    "print(f'a: {a}')\n",
    "print(f'b: {b}')\n",
    "print(f'c: {c}')\n",
    "print(f'd: {d}')"
   ]
  },
  {
   "cell_type": "code",
   "execution_count": null,
   "metadata": {},
   "outputs": [],
   "source": []
  }
 ],
 "metadata": {
  "kernelspec": {
   "display_name": "Python 3",
   "language": "python",
   "name": "python3"
  },
  "language_info": {
   "codemirror_mode": {
    "name": "ipython",
    "version": 3
   },
   "file_extension": ".py",
   "mimetype": "text/x-python",
   "name": "python",
   "nbconvert_exporter": "python",
   "pygments_lexer": "ipython3",
   "version": "3.6.8"
  }
 },
 "nbformat": 4,
 "nbformat_minor": 2
}
