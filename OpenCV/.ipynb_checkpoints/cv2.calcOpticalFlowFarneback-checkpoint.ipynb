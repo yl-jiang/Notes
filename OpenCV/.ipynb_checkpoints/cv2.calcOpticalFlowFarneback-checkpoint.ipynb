{
 "cells": [
  {
   "cell_type": "code",
   "execution_count": 2,
   "metadata": {},
   "outputs": [],
   "source": [
    "import cv2\n",
    "import numpy as np\n",
    "import matplotlib.pyplot as plt\n",
    "from tqdm import trange"
   ]
  },
  {
   "cell_type": "markdown",
   "metadata": {},
   "source": [
    "`cv2.calcOpticalFlowFarneback(prev, next, flow, pyr_scale, levels, winsize, iterations, poly_n, poly_sigma, flags)`\n",
    "\n",
    "+ prev: 前帧灰度图像\n",
    "+ next: 后帧灰度图像\n",
    "+ pyr_scale: specifying the image scale (<1) to build pyramids for each image; pyr_scale=0.5 means a classical pyramid, where each next layer is twice smaller than the #previous one. \n",
    "+ poly_n: size of the pixel neighborhood used to find polynomial expansion in each pixel; **typically poly_n =5 or 7.** \n",
    "+ poly_sigma: standard deviation of the Gaussian that is used to smooth derivatives used as a basis for the polynomial expansion; **for poly_n=5, you can set poly_sigma=1.1, for #poly_n=7, a good value would be poly_sigma=1.5.**\n",
    "+ flag: 可选 0 或 1。0 计算快，1 慢但准确 \n",
    "\n",
    "函数的返回结果是一个带有光流向量$(u, v)$的双通道数组。对该返回的数组进行计算可以得到光流的大小和方向。可以进一步对处理后的大小和方向进行编码，将方向转化为hsv的h通道，大小转换为hsv的v通道。"
   ]
  },
  {
   "cell_type": "code",
   "execution_count": 8,
   "metadata": {},
   "outputs": [
    {
     "name": "stderr",
     "output_type": "stream",
     "text": [
      "100%|██████████| 100/100 [00:22<00:00,  4.46it/s]\n"
     ]
    }
   ],
   "source": [
    "video = cv2.VideoCapture('./imgdata/car.flv')\n",
    "video.set(cv2.CAP_PROP_POS_FRAMES, 300)\n",
    "\n",
    "ret, frame = video.read()\n",
    "\n",
    "prvs = cv2.cvtColor(frame, cv2.COLOR_BGR2GRAY)\n",
    "hsv = np.zeros_like(frame)\n",
    "hsv[..., 1] = 255\n",
    "\n",
    "mark = 1\n",
    "\n",
    "for _ in trange(100):\n",
    "    ret, frame_next = video.read()\n",
    "    frame_next_gray = cv2.cvtColor(frame_next, cv2.COLOR_BGR2GRAY)\n",
    "\n",
    "    flow = cv2.calcOpticalFlowFarneback(prev=prvs, \n",
    "                                        next=frame_next_gray, \n",
    "                                        flow=None, \n",
    "                                        pyr_scale=0.5, \n",
    "                                        levels=3,\n",
    "                                        winsize=15, \n",
    "                                        iterations=3, \n",
    "                                        poly_n=7, \n",
    "                                        poly_sigma=1.5, \n",
    "                                        flags=1)\n",
    "\n",
    "    mag, ang = cv2.cartToPolar(flow[..., 0], flow[..., 1])\n",
    "    hsv[..., 0] = ang * 180 / np.pi / 2\n",
    "    hsv[..., 2] = cv2.normalize(src=mag * 1.5, \n",
    "                                dst=None, \n",
    "                                alpha=0, \n",
    "                                beta=255, \n",
    "                                norm_type=cv2.NORM_MINMAX)\n",
    "    rgb = cv2.cvtColor(hsv, cv2.COLOR_HSV2BGR)\n",
    "    prvs = frame_next_gray\n",
    "    cv2.imwrite(f'./dense_optical_flow/flow_{mark}.jpg', rgb)\n",
    "    mark += 1"
   ]
  },
  {
   "cell_type": "code",
   "execution_count": null,
   "metadata": {},
   "outputs": [],
   "source": []
  }
 ],
 "metadata": {
  "kernelspec": {
   "display_name": "Python 3",
   "language": "python",
   "name": "python3"
  },
  "language_info": {
   "codemirror_mode": {
    "name": "ipython",
    "version": 3
   },
   "file_extension": ".py",
   "mimetype": "text/x-python",
   "name": "python",
   "nbconvert_exporter": "python",
   "pygments_lexer": "ipython3",
   "version": "3.7.7"
  }
 },
 "nbformat": 4,
 "nbformat_minor": 4
}
