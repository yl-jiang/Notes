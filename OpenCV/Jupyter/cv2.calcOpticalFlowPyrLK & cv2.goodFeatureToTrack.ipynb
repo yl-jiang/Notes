{
 "cells": [
  {
   "cell_type": "markdown",
   "metadata": {},
   "source": [
    "**Lucas-Kanade算法是计算一些特征点的光流(稀疏光流)。**\n",
    "\n",
    "由于目标对象或者摄像机的移动造成的图像对象在连续两帧图像中的移动被称为光流，他是一个2D的向量场，可以用来显示一个点从第一针图像到第二帧图像之间的移动。\n",
    "\n",
    "光流是基于以下假设的：\n",
    "\n",
    "+ 连续两帧图像之间像素的灰度值不改变\n",
    "+ 相邻像素具有相同的运动"
   ]
  },
  {
   "cell_type": "code",
   "execution_count": 1,
   "metadata": {},
   "outputs": [],
   "source": [
    "import cv2\n",
    "import numpy as np\n",
    "import matplotlib.pyplot as plt\n",
    "from tqdm import tqdm"
   ]
  },
  {
   "cell_type": "markdown",
   "metadata": {},
   "source": [
    "`cv2.calcOpticalFlowPyrLK(prevImg, nextImg, prevPts, nextPts[, status[, err[, winSize[, maxLevel[, criteria[, flags[, minEigThreshold]]]]]]])`\n",
    "\n",
    "+ prevImg: 前帧灰度图像\n",
    "+ nextImg: 后帧灰度图像\n",
    "+ prevPts: 前帧图像中的角点\n",
    "+ nextPts: 后帧图像中的角点\n",
    "\n",
    "传入前一帧图像和其中的点，以及下一帧图像，函数将返回带有状态数的点，如果状态数是1，那说明在下一帧图像中找到了这个点（上一帧中的角点），如果状态数为0，就说明在下一帧图像中没有找到这个点。"
   ]
  },
  {
   "cell_type": "code",
   "execution_count": 2,
   "metadata": {
    "scrolled": true
   },
   "outputs": [],
   "source": [
    "video = cv2.VideoCapture('./imgdata/car.flv')\n",
    "video.set(cv2.CAP_PROP_POS_FRAMES, 1)\n",
    "\n",
    "# params for corner detection\n",
    "feature_params = dict(maxCorners = 100, \n",
    "                     qualityLevel = 0.3, \n",
    "                     minDistance = 7, \n",
    "                     blockSize = 7)\n",
    "\n",
    "# params for optical flow\n",
    "lk_params = dict(winSize = (15, 15), \n",
    "                maxLevel = 2, \n",
    "                criteria = (cv2.TERM_CRITERIA_EPS | cv2.TERM_CRITERIA_COUNT, 10, 0.03))\n",
    "\n",
    "color = np.random.randint(0, 255, (100, 3))\n",
    "\n",
    "ret, old_frame = video.read()\n",
    "old_gray = cv2.cvtColor(old_frame, cv2.COLOR_BGR2GRAY)\n",
    "\n",
    "# 角点检测\n",
    "p0 = cv2.goodFeaturesToTrack(old_gray, mask=None, **feature_params)\n",
    "\n",
    "fig = np.zeros_like(old_frame)\n",
    "mark = 1\n",
    "for _ in range(1000):\n",
    "    ret, frame = video.read()\n",
    "    frame_gray = cv2.cvtColor(frame, cv2.COLOR_BGR2GRAY)\n",
    "    \n",
    "    # 计算光流\n",
    "    p1, st, err = cv2.calcOpticalFlowPyrLK(old_gray, frame_gray, p0, None, **lk_params)\n",
    "    \n",
    "    # 当无法在后帧图像中匹配到任何特征点时结束\n",
    "    if st is not None:\n",
    "        good_new = p1[st == 1]\n",
    "        good_old = p0[st == 1]\n",
    "\n",
    "        for i, (new, old) in enumerate(zip(good_new, good_old)):\n",
    "            a, b = new.ravel()\n",
    "            c, d = old.ravel()\n",
    "            fig = cv2.line(fig, (a, b), (c, d), color[i].tolist(), 2)\n",
    "        img = cv2.add(frame, fig)\n",
    "        cv2.imwrite(f'./optical_flow/img_{mark}.jpg', img)\n",
    "\n",
    "        old_gray = frame_gray.copy()\n",
    "        p0 = good_new.reshape(-1, 1, 2)\n",
    "        mark += 1\n",
    "    else:\n",
    "        break"
   ]
  },
  {
   "cell_type": "code",
   "execution_count": 5,
   "metadata": {
    "scrolled": true
   },
   "outputs": [
    {
     "name": "stderr",
     "output_type": "stream",
     "text": [
      "100%|██████████| 500/500 [00:46<00:00, 10.69it/s]\n"
     ]
    }
   ],
   "source": [
    "video = cv2.VideoCapture('./imgdata/car.flv')\n",
    "video.set(cv2.CAP_PROP_POS_FRAMES, 300)\n",
    "\n",
    "# params for corner detection\n",
    "feature_params = dict(maxCorners = 100, \n",
    "                     qualityLevel = 0.3, \n",
    "                     minDistance = 7, \n",
    "                     blockSize = 7)\n",
    "\n",
    "# params for optical flow\n",
    "lk_params = dict(winSize = (15, 15), \n",
    "                maxLevel = 2, \n",
    "                criteria = (cv2.TERM_CRITERIA_EPS | cv2.TERM_CRITERIA_COUNT, 10, 0.03))\n",
    "\n",
    "color = np.random.randint(0, 255, (100, 3))\n",
    "\n",
    "ret, old_frame = video.read()\n",
    "old_gray = cv2.cvtColor(old_frame, cv2.COLOR_BGR2GRAY)\n",
    "\n",
    "# 角点检测\n",
    "p0 = cv2.goodFeaturesToTrack(old_gray, mask=None, **feature_params)\n",
    "\n",
    "fig = np.zeros_like(old_frame)\n",
    "mark = 1\n",
    "st_is_none = 0\n",
    "\n",
    "for _ in tqdm(range(500)):\n",
    "    ret, frame = video.read()\n",
    "    frame_gray = cv2.cvtColor(frame, cv2.COLOR_BGR2GRAY)\n",
    "    # 计算光流\n",
    "    p1, st, err = cv2.calcOpticalFlowPyrLK(old_gray, frame_gray, p0, None, **lk_params)\n",
    "    \n",
    "    if st is not None:\n",
    "        good_new = p1[st == 1]\n",
    "        good_old = p0[st == 1]\n",
    "\n",
    "        for i, (new, old) in enumerate(zip(good_new, good_old)):\n",
    "            a, b = new.ravel()\n",
    "            c, d = old.ravel()\n",
    "            fig = cv2.line(fig, (a, b), (c, d), color[i].tolist(), 2)\n",
    "        img = cv2.add(frame, fig)\n",
    "        cv2.imwrite(f'./optical_flow/img_{mark}.jpg', img)\n",
    "        old_gray = frame_gray.copy()\n",
    "        p0 = good_new.reshape(-1, 1, 2)\n",
    "    # 当无法在后帧图像中匹配到任何特征点时，重新提取特征点\n",
    "    else:\n",
    "        st_is_none += 1\n",
    "        fig = np.zeros_like(old_frame)\n",
    "        p0 = cv2.goodFeaturesToTrack(old_gray, mask=None, **feature_params)\n",
    "    \n",
    "    mark += 1"
   ]
  },
  {
   "cell_type": "code",
   "execution_count": 6,
   "metadata": {},
   "outputs": [
    {
     "data": {
      "text/plain": [
       "4"
      ]
     },
     "execution_count": 6,
     "metadata": {},
     "output_type": "execute_result"
    }
   ],
   "source": [
    "st_is_none"
   ]
  },
  {
   "cell_type": "code",
   "execution_count": null,
   "metadata": {},
   "outputs": [],
   "source": []
  }
 ],
 "metadata": {
  "kernelspec": {
   "display_name": "Python 3",
   "language": "python",
   "name": "python3"
  },
  "language_info": {
   "codemirror_mode": {
    "name": "ipython",
    "version": 3
   },
   "file_extension": ".py",
   "mimetype": "text/x-python",
   "name": "python",
   "nbconvert_exporter": "python",
   "pygments_lexer": "ipython3",
   "version": "3.7.7"
  }
 },
 "nbformat": 4,
 "nbformat_minor": 4
}
