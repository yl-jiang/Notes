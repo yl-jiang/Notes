{
 "cells": [
  {
   "cell_type": "code",
   "execution_count": null,
   "metadata": {
    "ExecuteTime": {
     "end_time": "2019-11-24T08:50:02.807892Z",
     "start_time": "2019-11-24T08:50:02.256963Z"
    }
   },
   "outputs": [],
   "source": [
    "import torch\n",
    "import torch.nn as nn\n",
    "from collections import OrderedDict"
   ]
  },
  {
   "cell_type": "markdown",
   "metadata": {},
   "source": [
    "## build model"
   ]
  },
  {
   "cell_type": "code",
   "execution_count": 6,
   "metadata": {
    "ExecuteTime": {
     "end_time": "2019-11-24T08:51:53.687767Z",
     "start_time": "2019-11-24T08:51:53.682810Z"
    }
   },
   "outputs": [],
   "source": [
    "def residual_dense_block(rdb_pref, in_channels, bias=False):\n",
    "    rdb_dict = {f'{rdb_pref}_conv_3x3_1': nn.Conv2d(in_channels=in_channels, out_channels=32,\n",
    "                                                    kernel_size=3, stride=1, padding=1, bias=bias),\n",
    "                f'{rdb_pref}_relu_1': nn.ReLU(inplace=True),\n",
    "                f'{rdb_pref}_conv_3x3_2': nn.Conv2d(in_channels=in_channels, out_channels=32,\n",
    "                                                    kernel_size=3, stride=1, padding=1, bias=bias),\n",
    "                f'{rdb_pref}_relu_2': nn.ReLU(inplace=True),\n",
    "                f'{rdb_pref}_conv_3x3_3': nn.Conv2d(in_channels=in_channels, out_channels=32,\n",
    "                                                    kernel_size=3, stride=1, padding=1, bias=bias),\n",
    "                f'{rdb_pref}_relu_3': nn.ReLU(inplace=True),\n",
    "\n",
    "                f'{rdb_pref}_lff': nn.Conv2d(in_channels=in_channels, out_channels=64,\n",
    "                                             kernel_size=1, stride=1, padding=0, bias=bias)\n",
    "                }\n",
    "    return nn.ModuleDict(rdb_dict)"
   ]
  },
  {
   "cell_type": "code",
   "execution_count": 7,
   "metadata": {
    "ExecuteTime": {
     "end_time": "2019-11-24T08:51:53.983088Z",
     "start_time": "2019-11-24T08:51:53.973530Z"
    }
   },
   "outputs": [],
   "source": [
    "layer = residual_dense_block('1', 64)"
   ]
  },
  {
   "cell_type": "code",
   "execution_count": 13,
   "metadata": {
    "ExecuteTime": {
     "end_time": "2019-11-24T08:52:36.260901Z",
     "start_time": "2019-11-24T08:52:36.258228Z"
    }
   },
   "outputs": [
    {
     "data": {
      "text/plain": [
       "(odict_keys(['1_conv_3x3_1', '1_conv_3x3_2', '1_conv_3x3_3', '1_lff', '1_relu_1', '1_relu_2', '1_relu_3']),)"
      ]
     },
     "execution_count": 13,
     "metadata": {},
     "output_type": "execute_result"
    }
   ],
   "source": [
    "layer.keys(), "
   ]
  },
  {
   "cell_type": "code",
   "execution_count": 12,
   "metadata": {
    "ExecuteTime": {
     "end_time": "2019-11-24T08:52:34.181085Z",
     "start_time": "2019-11-24T08:52:34.173635Z"
    }
   },
   "outputs": [
    {
     "data": {
      "text/plain": [
       "odict_values([Conv2d(64, 32, kernel_size=(3, 3), stride=(1, 1), padding=(1, 1), bias=False), Conv2d(64, 32, kernel_size=(3, 3), stride=(1, 1), padding=(1, 1), bias=False), Conv2d(64, 32, kernel_size=(3, 3), stride=(1, 1), padding=(1, 1), bias=False), Conv2d(64, 64, kernel_size=(1, 1), stride=(1, 1), bias=False), ReLU(inplace=True), ReLU(inplace=True), ReLU(inplace=True)])"
      ]
     },
     "execution_count": 12,
     "metadata": {},
     "output_type": "execute_result"
    }
   ],
   "source": [
    "layer.values()"
   ]
  },
  {
   "cell_type": "markdown",
   "metadata": {},
   "source": [
    "## modules"
   ]
  },
  {
   "cell_type": "code",
   "execution_count": 16,
   "metadata": {
    "ExecuteTime": {
     "end_time": "2019-11-24T08:53:08.253752Z",
     "start_time": "2019-11-24T08:53:08.238079Z"
    }
   },
   "outputs": [
    {
     "data": {
      "text/plain": [
       "<bound method Module.modules of ModuleDict(\n",
       "  (1_conv_3x3_1): Conv2d(64, 32, kernel_size=(3, 3), stride=(1, 1), padding=(1, 1), bias=False)\n",
       "  (1_conv_3x3_2): Conv2d(64, 32, kernel_size=(3, 3), stride=(1, 1), padding=(1, 1), bias=False)\n",
       "  (1_conv_3x3_3): Conv2d(64, 32, kernel_size=(3, 3), stride=(1, 1), padding=(1, 1), bias=False)\n",
       "  (1_lff): Conv2d(64, 64, kernel_size=(1, 1), stride=(1, 1), bias=False)\n",
       "  (1_relu_1): ReLU(inplace=True)\n",
       "  (1_relu_2): ReLU(inplace=True)\n",
       "  (1_relu_3): ReLU(inplace=True)\n",
       ")>"
      ]
     },
     "execution_count": 16,
     "metadata": {},
     "output_type": "execute_result"
    }
   ],
   "source": [
    "layer.modules"
   ]
  },
  {
   "cell_type": "code",
   "execution_count": 18,
   "metadata": {
    "ExecuteTime": {
     "end_time": "2019-11-24T08:55:07.872871Z",
     "start_time": "2019-11-24T08:55:07.869708Z"
    }
   },
   "outputs": [
    {
     "name": "stdout",
     "output_type": "stream",
     "text": [
      "ModuleDict(\n",
      "  (1_conv_3x3_1): Conv2d(64, 32, kernel_size=(3, 3), stride=(1, 1), padding=(1, 1), bias=False)\n",
      "  (1_conv_3x3_2): Conv2d(64, 32, kernel_size=(3, 3), stride=(1, 1), padding=(1, 1), bias=False)\n",
      "  (1_conv_3x3_3): Conv2d(64, 32, kernel_size=(3, 3), stride=(1, 1), padding=(1, 1), bias=False)\n",
      "  (1_lff): Conv2d(64, 64, kernel_size=(1, 1), stride=(1, 1), bias=False)\n",
      "  (1_relu_1): ReLU(inplace=True)\n",
      "  (1_relu_2): ReLU(inplace=True)\n",
      "  (1_relu_3): ReLU(inplace=True)\n",
      ")\n",
      "Conv2d(64, 32, kernel_size=(3, 3), stride=(1, 1), padding=(1, 1), bias=False)\n",
      "Conv2d(64, 32, kernel_size=(3, 3), stride=(1, 1), padding=(1, 1), bias=False)\n",
      "Conv2d(64, 32, kernel_size=(3, 3), stride=(1, 1), padding=(1, 1), bias=False)\n",
      "Conv2d(64, 64, kernel_size=(1, 1), stride=(1, 1), bias=False)\n",
      "ReLU(inplace=True)\n",
      "ReLU(inplace=True)\n",
      "ReLU(inplace=True)\n"
     ]
    }
   ],
   "source": [
    "for m in layer.modules():\n",
    "    print(m)"
   ]
  },
  {
   "cell_type": "markdown",
   "metadata": {},
   "source": [
    "## named_children"
   ]
  },
  {
   "cell_type": "code",
   "execution_count": 19,
   "metadata": {
    "ExecuteTime": {
     "end_time": "2019-11-24T08:55:40.401681Z",
     "start_time": "2019-11-24T08:55:40.396658Z"
    }
   },
   "outputs": [
    {
     "name": "stdout",
     "output_type": "stream",
     "text": [
      "('1_conv_3x3_1', Conv2d(64, 32, kernel_size=(3, 3), stride=(1, 1), padding=(1, 1), bias=False))\n",
      "('1_conv_3x3_2', Conv2d(64, 32, kernel_size=(3, 3), stride=(1, 1), padding=(1, 1), bias=False))\n",
      "('1_conv_3x3_3', Conv2d(64, 32, kernel_size=(3, 3), stride=(1, 1), padding=(1, 1), bias=False))\n",
      "('1_lff', Conv2d(64, 64, kernel_size=(1, 1), stride=(1, 1), bias=False))\n",
      "('1_relu_1', ReLU(inplace=True))\n",
      "('1_relu_2', ReLU(inplace=True))\n",
      "('1_relu_3', ReLU(inplace=True))\n"
     ]
    }
   ],
   "source": [
    "for m in layer.named_children():\n",
    "    print(m)"
   ]
  },
  {
   "cell_type": "markdown",
   "metadata": {},
   "source": [
    "## named_modules"
   ]
  },
  {
   "cell_type": "code",
   "execution_count": 20,
   "metadata": {
    "ExecuteTime": {
     "end_time": "2019-11-24T08:56:45.769168Z",
     "start_time": "2019-11-24T08:56:45.763792Z"
    }
   },
   "outputs": [
    {
     "name": "stdout",
     "output_type": "stream",
     "text": [
      "('', ModuleDict(\n",
      "  (1_conv_3x3_1): Conv2d(64, 32, kernel_size=(3, 3), stride=(1, 1), padding=(1, 1), bias=False)\n",
      "  (1_conv_3x3_2): Conv2d(64, 32, kernel_size=(3, 3), stride=(1, 1), padding=(1, 1), bias=False)\n",
      "  (1_conv_3x3_3): Conv2d(64, 32, kernel_size=(3, 3), stride=(1, 1), padding=(1, 1), bias=False)\n",
      "  (1_lff): Conv2d(64, 64, kernel_size=(1, 1), stride=(1, 1), bias=False)\n",
      "  (1_relu_1): ReLU(inplace=True)\n",
      "  (1_relu_2): ReLU(inplace=True)\n",
      "  (1_relu_3): ReLU(inplace=True)\n",
      "))\n",
      "('1_conv_3x3_1', Conv2d(64, 32, kernel_size=(3, 3), stride=(1, 1), padding=(1, 1), bias=False))\n",
      "('1_conv_3x3_2', Conv2d(64, 32, kernel_size=(3, 3), stride=(1, 1), padding=(1, 1), bias=False))\n",
      "('1_conv_3x3_3', Conv2d(64, 32, kernel_size=(3, 3), stride=(1, 1), padding=(1, 1), bias=False))\n",
      "('1_lff', Conv2d(64, 64, kernel_size=(1, 1), stride=(1, 1), bias=False))\n",
      "('1_relu_1', ReLU(inplace=True))\n",
      "('1_relu_2', ReLU(inplace=True))\n",
      "('1_relu_3', ReLU(inplace=True))\n"
     ]
    }
   ],
   "source": [
    "for m in layer.named_modules():\n",
    "    print(m)"
   ]
  },
  {
   "cell_type": "code",
   "execution_count": 21,
   "metadata": {
    "ExecuteTime": {
     "end_time": "2019-11-24T09:01:47.495937Z",
     "start_time": "2019-11-24T09:01:47.493059Z"
    }
   },
   "outputs": [
    {
     "data": {
      "text/plain": [
       "Conv2d(64, 32, kernel_size=(3, 3), stride=(1, 1), padding=(1, 1), bias=False)"
      ]
     },
     "execution_count": 21,
     "metadata": {},
     "output_type": "execute_result"
    }
   ],
   "source": [
    "layer['1_conv_3x3_1']"
   ]
  }
 ],
 "metadata": {
  "kernelspec": {
   "display_name": "Python 3",
   "language": "python",
   "name": "python3"
  },
  "language_info": {
   "codemirror_mode": {
    "name": "ipython",
    "version": 3
   },
   "file_extension": ".py",
   "mimetype": "text/x-python",
   "name": "python",
   "nbconvert_exporter": "python",
   "pygments_lexer": "ipython3",
   "version": "3.7.7"
  }
 },
 "nbformat": 4,
 "nbformat_minor": 2
}
