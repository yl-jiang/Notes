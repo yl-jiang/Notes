{
 "cells": [
  {
   "cell_type": "code",
   "execution_count": 1,
   "metadata": {
    "ExecuteTime": {
     "end_time": "2019-12-11T02:06:05.246105Z",
     "start_time": "2019-12-11T02:06:04.962496Z"
    }
   },
   "outputs": [],
   "source": [
    "import torch\n",
    "from torchvision.ops import roi_pool\n",
    "import numpy as np"
   ]
  },
  {
   "cell_type": "markdown",
   "metadata": {},
   "source": [
    "## 手动创建一张feature map"
   ]
  },
  {
   "cell_type": "code",
   "execution_count": 2,
   "metadata": {
    "ExecuteTime": {
     "end_time": "2019-12-11T02:06:06.627824Z",
     "start_time": "2019-12-11T02:06:06.608434Z"
    }
   },
   "outputs": [],
   "source": [
    "feature_maps = (torch.rand(1, 6, 10, 10) * 100).to(torch.uint8).float()\n",
    "roi = torch.rand(1, 4) * 20"
   ]
  },
  {
   "cell_type": "code",
   "execution_count": 3,
   "metadata": {
    "ExecuteTime": {
     "end_time": "2019-12-11T02:06:07.650658Z",
     "start_time": "2019-12-11T02:06:07.639679Z"
    },
    "scrolled": true
   },
   "outputs": [
    {
     "name": "stdout",
     "output_type": "stream",
     "text": [
      "tensor([[27.,  2., 34., 29., 70., 96., 72.,  5., 17., 78.],\n",
      "        [22., 71., 38.,  1., 23., 97., 68., 36., 36., 69.],\n",
      "        [98., 59., 81., 87., 79.,  6., 43., 55., 10., 22.],\n",
      "        [53.,  0.,  4., 77., 27., 48., 99., 55., 29., 50.],\n",
      "        [50.,  8., 88., 86., 58., 11., 29., 89., 65., 72.],\n",
      "        [69., 58., 81., 48., 94., 32., 37., 15., 93., 55.],\n",
      "        [ 3., 74., 57.,  4., 67., 48., 83., 45., 69.,  2.],\n",
      "        [12.,  1., 48., 93., 38., 63., 95., 42., 48., 74.],\n",
      "        [12., 34.,  7., 68., 94.,  5., 70., 60., 20.,  3.],\n",
      "        [90., 72., 99., 58., 37., 40., 99., 91., 59., 70.]]):.2f\n"
     ]
    }
   ],
   "source": [
    "print(f'{feature_maps[0][0]}:.2f')"
   ]
  },
  {
   "cell_type": "code",
   "execution_count": 4,
   "metadata": {
    "ExecuteTime": {
     "end_time": "2019-12-11T05:58:51.316771Z",
     "start_time": "2019-12-11T05:58:51.312723Z"
    }
   },
   "outputs": [
    {
     "data": {
      "text/plain": [
       "tensor([[ 0.,  0.,  0.,  0.,  0., 10.,  0.,  0.,  0.,  0.],\n",
       "        [ 0.,  0.,  0.,  0.,  0.,  0.,  0.,  0.,  0.,  0.],\n",
       "        [ 0.,  0.,  0.,  0.,  0.,  0.,  0.,  0.,  0.,  0.],\n",
       "        [ 0.,  0.,  0.,  0.,  0.,  0.,  0.,  0.,  0.,  0.],\n",
       "        [ 0.,  0.,  0.,  0.,  0.,  0.,  0.,  0.,  0.,  0.],\n",
       "        [ 0.,  0.,  0.,  0.,  0.,  0.,  0.,  0.,  0.,  0.],\n",
       "        [ 0.,  0.,  0.,  0.,  0.,  0.,  0.,  0.,  0.,  0.],\n",
       "        [ 0.,  0.,  0.,  0.,  0.,  0.,  0.,  0.,  0.,  0.],\n",
       "        [ 0.,  0.,  0.,  0.,  0.,  0.,  0.,  0.,  0.,  0.],\n",
       "        [ 0.,  0.,  0.,  0.,  0.,  0.,  0.,  0.,  0.,  0.]])"
      ]
     },
     "execution_count": 4,
     "metadata": {},
     "output_type": "execute_result"
    }
   ],
   "source": [
    "feature_maps[0][0] = torch.zeros(10, 10)\n",
    "feature_maps[0][0][0][5] = 10\n",
    "feature_maps[0][0][3][0] = 0\n",
    "feature_maps[0][0]"
   ]
  },
  {
   "cell_type": "markdown",
   "metadata": {},
   "source": [
    "## 创建roi kernel"
   ]
  },
  {
   "cell_type": "code",
   "execution_count": 5,
   "metadata": {
    "ExecuteTime": {
     "end_time": "2019-12-11T05:58:51.995802Z",
     "start_time": "2019-12-11T05:58:51.991503Z"
    }
   },
   "outputs": [],
   "source": [
    "roi = torch.tensor([1, 1, 70, 70], dtype=torch.float32)[None, :]"
   ]
  },
  {
   "cell_type": "markdown",
   "metadata": {},
   "source": [
    "## torch roipooling"
   ]
  },
  {
   "cell_type": "code",
   "execution_count": 6,
   "metadata": {
    "ExecuteTime": {
     "end_time": "2019-12-11T05:58:51.995802Z",
     "start_time": "2019-12-11T05:58:51.991503Z"
    }
   },
   "outputs": [
    {
     "data": {
      "text/plain": [
       "tensor([[ 0., 10., 10.],\n",
       "        [ 0.,  0.,  0.],\n",
       "        [ 0.,  0.,  0.]])"
      ]
     },
     "execution_count": 6,
     "metadata": {},
     "output_type": "execute_result"
    }
   ],
   "source": [
    "# roi = torch.rand(1, 4) * 20\n",
    "pool = roi_pool(feature_maps, [roi], (3,3), 1/10)\n",
    "pool[0][0]"
   ]
  },
  {
   "cell_type": "markdown",
   "metadata": {},
   "source": [
    "## 使用numpy实现roipooling"
   ]
  },
  {
   "cell_type": "code",
   "execution_count": 7,
   "metadata": {
    "ExecuteTime": {
     "end_time": "2019-12-11T05:58:53.052652Z",
     "start_time": "2019-12-11T05:58:53.047454Z"
    },
    "scrolled": true
   },
   "outputs": [],
   "source": [
    "import numpy as np\n",
    "import math\n",
    "\n",
    "def simulate_roipool(feature, roi, output_size, spatial_scale):\n",
    "    # roi format: [xmin, ymin, xmax, ymax]\n",
    "    assert isinstance(feature, np.ndarray)\n",
    "    assert isinstance(roi, np.ndarray)\n",
    "    assert feature.ndim == 2\n",
    "    \n",
    "    roi = np.floor(roi)\n",
    "    roi = np.floor(roi * spatial_scale)\n",
    "    xmin, ymin, xmax, ymax = roi.astype(np.int32)\n",
    "    height = ymax - ymin + 1\n",
    "    width = xmax - xmin + 1\n",
    "    roi_mat = feature[ymin:ymax, xmin:xmax]\n",
    "    pool = []\n",
    "    \n",
    "    for i in range(output_size[1]):\n",
    "        for j in range(output_size[0]):\n",
    "            x_start = math.floor(j * (width / output_size[0]))\n",
    "            x_end = math.ceil((j+1) * (width / output_size[0]))\n",
    "            y_start = math.floor(i * (height / output_size[1]))\n",
    "            y_end = math.ceil((i+1) * (height / output_size[1]))\n",
    "            bin_ = roi_mat[y_start:y_end, x_start:x_end]\n",
    "            pool.append(np.max(bin_))\n",
    "            \n",
    "    return np.asarray(pool).reshape(output_size)"
   ]
  },
  {
   "cell_type": "code",
   "execution_count": 8,
   "metadata": {
    "ExecuteTime": {
     "end_time": "2019-12-11T05:58:53.611252Z",
     "start_time": "2019-12-11T05:58:53.607278Z"
    },
    "scrolled": true
   },
   "outputs": [
    {
     "data": {
      "text/plain": [
       "array([[ 0., 10., 10.],\n",
       "       [ 0.,  0.,  0.],\n",
       "       [ 0.,  0.,  0.]], dtype=float32)"
      ]
     },
     "execution_count": 8,
     "metadata": {},
     "output_type": "execute_result"
    }
   ],
   "source": [
    "a = feature_maps[0][0].numpy()\n",
    "b = np.array([1, 1, 70, 70])\n",
    "\n",
    "pool = simulate_roipool(a, b, (3,3), 1/10)\n",
    "pool"
   ]
  }
 ],
 "metadata": {
  "kernelspec": {
   "display_name": "Python 3",
   "language": "python",
   "name": "python3"
  },
  "language_info": {
   "codemirror_mode": {
    "name": "ipython",
    "version": 3
   },
   "file_extension": ".py",
   "mimetype": "text/x-python",
   "name": "python",
   "nbconvert_exporter": "python",
   "pygments_lexer": "ipython3",
   "version": "3.7.7"
  }
 },
 "nbformat": 4,
 "nbformat_minor": 2
}
