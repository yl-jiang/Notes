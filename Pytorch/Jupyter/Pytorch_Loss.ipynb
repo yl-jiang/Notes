{
 "cells": [
  {
   "cell_type": "code",
   "execution_count": 1,
   "metadata": {
    "ExecuteTime": {
     "end_time": "2019-12-17T08:40:01.530379Z",
     "start_time": "2019-12-17T08:40:01.301425Z"
    }
   },
   "outputs": [],
   "source": [
    "import torch\n",
    "import numpy as np"
   ]
  },
  {
   "cell_type": "code",
   "execution_count": 2,
   "metadata": {
    "ExecuteTime": {
     "end_time": "2019-12-17T08:40:01.534128Z",
     "start_time": "2019-12-17T08:40:01.531393Z"
    }
   },
   "outputs": [],
   "source": [
    "labels = torch.tensor([0,1,0,0,0]).float()\n",
    "preds = torch.tensor([2,1,8,5,6]).float()"
   ]
  },
  {
   "cell_type": "code",
   "execution_count": 3,
   "metadata": {
    "ExecuteTime": {
     "end_time": "2019-12-17T08:40:01.537609Z",
     "start_time": "2019-12-17T08:40:01.535704Z"
    }
   },
   "outputs": [],
   "source": [
    "BCE = torch.nn.BCEWithLogitsLoss(reduction='none')"
   ]
  },
  {
   "cell_type": "markdown",
   "metadata": {},
   "source": [
    "## Binary Cross Entropy Loss"
   ]
  },
  {
   "cell_type": "code",
   "execution_count": 4,
   "metadata": {
    "ExecuteTime": {
     "end_time": "2019-12-17T08:40:01.550368Z",
     "start_time": "2019-12-17T08:40:01.538827Z"
    }
   },
   "outputs": [
    {
     "data": {
      "text/plain": [
       "tensor([2.1269, 0.3133, 8.0003, 5.0067, 6.0025])"
      ]
     },
     "execution_count": 4,
     "metadata": {},
     "output_type": "execute_result"
    }
   ],
   "source": [
    "BCE(preds, labels)"
   ]
  },
  {
   "cell_type": "code",
   "execution_count": 5,
   "metadata": {
    "ExecuteTime": {
     "end_time": "2019-12-17T08:40:01.554910Z",
     "start_time": "2019-12-17T08:40:01.551207Z"
    }
   },
   "outputs": [
    {
     "name": "stdout",
     "output_type": "stream",
     "text": [
      "[2.12692801 0.31326169 8.00033541 5.00671535 6.00247569]\n"
     ]
    }
   ],
   "source": [
    "label = np.array([0,1,0,0,0])\n",
    "pred = np.array([2,1,8,5,6])\n",
    "\n",
    "def sigmoid(x):\n",
    "    return 1 / (1 + np.exp(-x))\n",
    "\n",
    "def entropy(x, y):\n",
    "    return -(x * np.log(sigmoid(y)) + (1-x) * np.log(1-sigmoid(y)))\n",
    "\n",
    "print(entropy(label, pred))"
   ]
  },
  {
   "cell_type": "markdown",
   "metadata": {},
   "source": [
    "\\begin{equation}\n",
    "loss_1=-[0\\times\\log{\\sigma{(2)}}+(1-0)\\times\\log({1-\\sigma{(2)}})]=-\\log({1-\\sigma{(2)}})=2.1269 \\\\\n",
    "loss_2=-[1\\times\\log{\\sigma{(1)}}+(1-1)\\times\\log({1-\\sigma{(1)}})]=-1\\times\\log{\\sigma{(1)}}=0.3133 \\\\\n",
    "loss_3=-[0\\times\\log{\\sigma{(8)}}+(1-0)\\times\\log({1-\\sigma{(8)}})]=-\\log({1-\\sigma{(8)}})=8.0003 \\\\\n",
    "loss_4=-[0\\times\\log{\\sigma{(5)}}+(1-0)\\times\\log({1-\\sigma{(5)}})]=-\\log({1-\\sigma{(5)}})=5.0067 \\\\\n",
    "loss_5=-[0\\times\\log{\\sigma{(6)}}+(1-0)\\times\\log({1-\\sigma{(6)}})]=-\\log({1-\\sigma{(6)}})=6.0025 \\\\\n",
    "\\end{equation}"
   ]
  },
  {
   "cell_type": "markdown",
   "metadata": {},
   "source": [
    "## Cross Entropy Loss"
   ]
  },
  {
   "cell_type": "code",
   "execution_count": 6,
   "metadata": {
    "ExecuteTime": {
     "end_time": "2019-12-17T08:40:01.563250Z",
     "start_time": "2019-12-17T08:40:01.556179Z"
    }
   },
   "outputs": [
    {
     "data": {
      "text/plain": [
       "tensor([0.1727])"
      ]
     },
     "execution_count": 6,
     "metadata": {},
     "output_type": "execute_result"
    }
   ],
   "source": [
    "CE = torch.nn.CrossEntropyLoss(reduction='none')\n",
    "label = torch.tensor([2]).long()\n",
    "pred = torch.tensor([[2,1,8,5,6]]).float()\n",
    "CE(pred, label)"
   ]
  },
  {
   "cell_type": "code",
   "execution_count": 7,
   "metadata": {
    "ExecuteTime": {
     "end_time": "2019-12-17T08:40:01.567320Z",
     "start_time": "2019-12-17T08:40:01.564249Z"
    }
   },
   "outputs": [
    {
     "name": "stdout",
     "output_type": "stream",
     "text": [
      "0.1727029339230807\n"
     ]
    }
   ],
   "source": [
    "def softmax(x):\n",
    "    return np.exp(x) / np.exp(x).sum()\n",
    "\n",
    "pred = np.array([2,1,8,5,6])\n",
    "label = np.array(2)\n",
    "\n",
    "pred_softmax = softmax(pred)\n",
    "print(-np.log(pred_softmax[label]))"
   ]
  },
  {
   "cell_type": "markdown",
   "metadata": {},
   "source": [
    "$loss=-\\log (\\frac{e^{8}}{e^2+e^1+e^8+e^5+e^6})=0.1727$"
   ]
  },
  {
   "cell_type": "markdown",
   "metadata": {},
   "source": [
    "## Negative Log Likelihood Loss"
   ]
  },
  {
   "cell_type": "code",
   "execution_count": 10,
   "metadata": {
    "ExecuteTime": {
     "end_time": "2019-12-17T08:41:45.911649Z",
     "start_time": "2019-12-17T08:41:45.900849Z"
    }
   },
   "outputs": [
    {
     "data": {
      "text/plain": [
       "tensor([-8.])"
      ]
     },
     "execution_count": 10,
     "metadata": {},
     "output_type": "execute_result"
    }
   ],
   "source": [
    "NLL = torch.nn.NLLLoss(reduction='none')\n",
    "label = torch.tensor([2]).long()\n",
    "pred = torch.tensor([[2,1,8,5,6]]).float()\n",
    "NLL(pred, label)"
   ]
  },
  {
   "cell_type": "code",
   "execution_count": 13,
   "metadata": {
    "ExecuteTime": {
     "end_time": "2019-12-17T08:47:51.554476Z",
     "start_time": "2019-12-17T08:47:51.551269Z"
    }
   },
   "outputs": [
    {
     "name": "stdout",
     "output_type": "stream",
     "text": [
      "-8.0\n"
     ]
    }
   ],
   "source": [
    "def nllloss(label, pred):\n",
    "    return -np.log(np.exp(pred[label]))\n",
    "\n",
    "pred = np.array([2,1,8,5,6])\n",
    "label = np.array(2)\n",
    "\n",
    "print(nllloss(label, pred))"
   ]
  },
  {
   "cell_type": "markdown",
   "metadata": {},
   "source": [
    "$loss=-\\log (e^8)$"
   ]
  },
  {
   "cell_type": "markdown",
   "metadata": {},
   "source": [
    "### cross entropy = log softmax + NLLLoss"
   ]
  },
  {
   "cell_type": "code",
   "execution_count": 15,
   "metadata": {
    "ExecuteTime": {
     "end_time": "2019-12-17T09:45:56.840090Z",
     "start_time": "2019-12-17T09:45:56.836691Z"
    }
   },
   "outputs": [
    {
     "name": "stdout",
     "output_type": "stream",
     "text": [
      "0.1727029339230807\n"
     ]
    }
   ],
   "source": [
    "def log_softmax(x):\n",
    "    softmax = np.exp(x) / np.exp(x).sum()\n",
    "    log_softmax = np.log(soft)\n",
    "    return log_softmax\n",
    "\n",
    "print(nllloss(label, log_softmax(pred)))"
   ]
  },
  {
   "cell_type": "code",
   "execution_count": null,
   "metadata": {},
   "outputs": [],
   "source": []
  }
 ],
 "metadata": {
  "kernelspec": {
   "display_name": "Python 3",
   "language": "python",
   "name": "python3"
  },
  "language_info": {
   "codemirror_mode": {
    "name": "ipython",
    "version": 3
   },
   "file_extension": ".py",
   "mimetype": "text/x-python",
   "name": "python",
   "nbconvert_exporter": "python",
   "pygments_lexer": "ipython3",
   "version": "3.6.8"
  }
 },
 "nbformat": 4,
 "nbformat_minor": 2
}
