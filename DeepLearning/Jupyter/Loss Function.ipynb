{
 "cells": [
  {
   "cell_type": "markdown",
   "metadata": {},
   "source": [
    "# [Charbonnier Loss Fnction](http://xxx.itp.ac.cn/pdf/1710.01992)"
   ]
  },
  {
   "cell_type": "markdown",
   "metadata": {},
   "source": [
    "$loss = \\sqrt{(y_{pred} - \\hat{y})^2 + \\epsilon}$"
   ]
  },
  {
   "cell_type": "markdown",
   "metadata": {},
   "source": [
    "## 优点：\n",
    "1. 在[超分辨率重构任务](http://xxx.itp.ac.cn/pdf/1710.01992)中，Charbonnier Loss Fnction比L2-norm Loss能够获得更加清晰地结果，且收敛点更快。\n",
    "2. 在[视频插帧应用](https://arxiv.org/abs/1907.10244)中使用Charbonnier Loss Fnction也要比L2-norm要更好"
   ]
  },
  {
   "cell_type": "markdown",
   "metadata": {},
   "source": [
    "## 代码"
   ]
  },
  {
   "cell_type": "code",
   "execution_count": null,
   "metadata": {},
   "outputs": [],
   "source": [
    "class L1_Charbonnier_loss(torch.nn.Module):\n",
    "    \"\"\"L1 Charbonnierloss.\"\"\"\n",
    "    def __init__(self):\n",
    "        super(L1_Charbonnier_loss, self).__init__()\n",
    "        self.eps = 1e-6\n",
    "\n",
    "    def forward(self, X, Y):\n",
    "        diff = torch.add(X, -Y)\n",
    "        error = torch.sqrt(diff * diff + self.eps)\n",
    "        loss = torch.mean(error)\n",
    "        return loss"
   ]
  },
  {
   "cell_type": "markdown",
   "metadata": {},
   "source": [
    "---"
   ]
  },
  {
   "cell_type": "markdown",
   "metadata": {},
   "source": [
    "# [Perceptual Loss](https://link.jianshu.com/?t=https%3A%2F%2Farxiv.org%2Fpdf%2F1603.08155.pdf)"
   ]
  },
  {
   "cell_type": "markdown",
   "metadata": {},
   "source": [
    "## perceptual loss是是如何做的？\n",
    "    \n",
    "它是将真实图片卷积得到的feature与生成图片卷积得到的feature作比较，使得高层信息（内容和全局结构）接近，也就是感知的意思。\n",
    "\n",
    "![perceputal_loss](./imgs/perceptual_loss.png)"
   ]
  },
  {
   "cell_type": "code",
   "execution_count": null,
   "metadata": {},
   "outputs": [],
   "source": []
  }
 ],
 "metadata": {
  "kernelspec": {
   "display_name": "Python 3",
   "language": "python",
   "name": "python3"
  },
  "language_info": {
   "codemirror_mode": {
    "name": "ipython",
    "version": 3
   },
   "file_extension": ".py",
   "mimetype": "text/x-python",
   "name": "python",
   "nbconvert_exporter": "python",
   "pygments_lexer": "ipython3",
   "version": "3.7.7"
  }
 },
 "nbformat": 4,
 "nbformat_minor": 4
}
