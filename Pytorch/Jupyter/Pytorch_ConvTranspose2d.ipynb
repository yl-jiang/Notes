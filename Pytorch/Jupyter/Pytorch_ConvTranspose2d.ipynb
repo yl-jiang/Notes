{
 "cells": [
  {
   "cell_type": "code",
   "execution_count": 2,
   "metadata": {},
   "outputs": [],
   "source": [
    "import torch"
   ]
  },
  {
   "cell_type": "code",
   "execution_count": 2,
   "metadata": {},
   "outputs": [],
   "source": [
    "img = torch.Tensor(1,1,2,2)\n",
    "img[0, 0] = torch.tensor([[1, 2], [3, 4]]).float()"
   ]
  },
  {
   "cell_type": "code",
   "execution_count": 9,
   "metadata": {},
   "outputs": [],
   "source": [
    "kernel = torch.Tensor(1,1,3,3)\n",
    "kernel[0, 0] = torch.tensor([[0., 0., 0.], [0., 0., 0.], [0., 0., 1.]]).float()\n",
    "trans = torch.nn.ConvTranspose2d(in_channels=1, out_channels=1, kernel_size=3, stride=1, bias=False)"
   ]
  },
  {
   "cell_type": "code",
   "execution_count": 10,
   "metadata": {},
   "outputs": [],
   "source": [
    "trans.weight = torch.nn.Parameter(kernel)"
   ]
  },
  {
   "cell_type": "code",
   "execution_count": 11,
   "metadata": {
    "scrolled": true
   },
   "outputs": [
    {
     "data": {
      "text/plain": [
       "tensor([[[[0., 0., 0., 0.],\n",
       "          [0., 0., 0., 0.],\n",
       "          [0., 0., 1., 2.],\n",
       "          [0., 0., 3., 4.]]]], grad_fn=<ConvTranspose2DBackward>)"
      ]
     },
     "execution_count": 11,
     "metadata": {},
     "output_type": "execute_result"
    }
   ],
   "source": [
    "trans(img)"
   ]
  },
  {
   "cell_type": "code",
   "execution_count": 3,
   "metadata": {},
   "outputs": [
    {
     "data": {
      "text/plain": [
       "tensor([[[[1., 0., 2., 0.],\n",
       "          [0., 0., 0., 0.],\n",
       "          [3., 0., 4., 0.],\n",
       "          [0., 0., 0., 0.]]]], grad_fn=<ConvTranspose2DBackward>)"
      ]
     },
     "execution_count": 3,
     "metadata": {},
     "output_type": "execute_result"
    }
   ],
   "source": [
    "img = torch.Tensor(1,1,2,2)\n",
    "img[0, 0] = torch.tensor([[1, 2], [3, 4]]).float()\n",
    "\n",
    "kernel = torch.Tensor(1,1,2,2)\n",
    "kernel[0, 0] = torch.tensor([[1., 0.], [0., 0.]]).float()\n",
    "\n",
    "trans = torch.nn.ConvTranspose2d(in_channels=1, out_channels=1, kernel_size=2, stride=2, bias=False)\n",
    "trans.weight = torch.nn.Parameter(kernel)\n",
    "trans(img)"
   ]
  },
  {
   "cell_type": "code",
   "execution_count": 2,
   "metadata": {},
   "outputs": [
    {
     "data": {
      "text/plain": [
       "tensor([[[[1., 2., 0.],\n",
       "          [3., 4., 0.],\n",
       "          [0., 0., 0.]]]], grad_fn=<ConvTranspose2DBackward>)"
      ]
     },
     "execution_count": 2,
     "metadata": {},
     "output_type": "execute_result"
    }
   ],
   "source": [
    "img = torch.Tensor(1,1,2,2)\n",
    "img[0, 0] = torch.tensor([[1, 2], [3, 4]]).float()\n",
    "\n",
    "kernel = torch.Tensor(1,1,2,2)\n",
    "kernel[0, 0] = torch.tensor([[1., 0.], [0., 0.]]).float()\n",
    "\n",
    "trans = torch.nn.ConvTranspose2d(in_channels=1, out_channels=1, kernel_size=2, stride=1, bias=False)\n",
    "trans.weight = torch.nn.Parameter(kernel)\n",
    "trans(img)"
   ]
  },
  {
   "cell_type": "code",
   "execution_count": 3,
   "metadata": {},
   "outputs": [
    {
     "data": {
      "text/plain": [
       "tensor([[[[0., 1., 2.],\n",
       "          [0., 3., 4.],\n",
       "          [0., 0., 0.]]]], grad_fn=<ConvTranspose2DBackward>)"
      ]
     },
     "execution_count": 3,
     "metadata": {},
     "output_type": "execute_result"
    }
   ],
   "source": [
    "img = torch.Tensor(1,1,2,2)\n",
    "img[0, 0] = torch.tensor([[1, 2], [3, 4]]).float()\n",
    "\n",
    "kernel = torch.Tensor(1,1,2,2)\n",
    "kernel[0, 0] = torch.tensor([[0., 1.], [0., 0.]]).float()\n",
    "\n",
    "trans = torch.nn.ConvTranspose2d(in_channels=1, out_channels=1, kernel_size=2, stride=1, bias=False)\n",
    "trans.weight = torch.nn.Parameter(kernel)\n",
    "trans(img)"
   ]
  },
  {
   "cell_type": "code",
   "execution_count": 4,
   "metadata": {},
   "outputs": [
    {
     "data": {
      "text/plain": [
       "tensor([[[[0., 0., 0.],\n",
       "          [1., 2., 0.],\n",
       "          [3., 4., 0.]]]], grad_fn=<ConvTranspose2DBackward>)"
      ]
     },
     "execution_count": 4,
     "metadata": {},
     "output_type": "execute_result"
    }
   ],
   "source": [
    "img = torch.Tensor(1,1,2,2)\n",
    "img[0, 0] = torch.tensor([[1, 2], [3, 4]]).float()\n",
    "\n",
    "kernel = torch.Tensor(1,1,2,2)\n",
    "kernel[0, 0] = torch.tensor([[0., 0.], [1., 0.]]).float()\n",
    "\n",
    "trans = torch.nn.ConvTranspose2d(in_channels=1, out_channels=1, kernel_size=2, stride=1, bias=False)\n",
    "trans.weight = torch.nn.Parameter(kernel)\n",
    "trans(img)"
   ]
  },
  {
   "cell_type": "code",
   "execution_count": 5,
   "metadata": {},
   "outputs": [
    {
     "data": {
      "text/plain": [
       "tensor([[[[0., 0., 0.],\n",
       "          [0., 1., 2.],\n",
       "          [0., 3., 4.]]]], grad_fn=<ConvTranspose2DBackward>)"
      ]
     },
     "execution_count": 5,
     "metadata": {},
     "output_type": "execute_result"
    }
   ],
   "source": [
    "img = torch.Tensor(1,1,2,2)\n",
    "img[0, 0] = torch.tensor([[1, 2], [3, 4]]).float()\n",
    "\n",
    "kernel = torch.Tensor(1,1,2,2)\n",
    "kernel[0, 0] = torch.tensor([[0., 0.], [0., 1.]]).float()\n",
    "\n",
    "trans = torch.nn.ConvTranspose2d(in_channels=1, out_channels=1, kernel_size=2, stride=1, bias=False)\n",
    "trans.weight = torch.nn.Parameter(kernel)\n",
    "trans(img)"
   ]
  },
  {
   "cell_type": "code",
   "execution_count": 6,
   "metadata": {},
   "outputs": [
    {
     "data": {
      "text/plain": [
       "tensor([[[[1., 3., 2.],\n",
       "          [3., 7., 4.],\n",
       "          [0., 0., 0.]]]], grad_fn=<ConvTranspose2DBackward>)"
      ]
     },
     "execution_count": 6,
     "metadata": {},
     "output_type": "execute_result"
    }
   ],
   "source": [
    "img = torch.Tensor(1,1,2,2)\n",
    "img[0, 0] = torch.tensor([[1, 2], [3, 4]]).float()\n",
    "\n",
    "kernel = torch.Tensor(1,1,2,2)\n",
    "kernel[0, 0] = torch.tensor([[1., 1.], [0., 0.]]).float()\n",
    "\n",
    "trans = torch.nn.ConvTranspose2d(in_channels=1, out_channels=1, kernel_size=2, stride=1, bias=False)\n",
    "trans.weight = torch.nn.Parameter(kernel)\n",
    "trans(img)"
   ]
  },
  {
   "cell_type": "code",
   "execution_count": 22,
   "metadata": {},
   "outputs": [
    {
     "data": {
      "text/plain": [
       "tensor([[[[0., 1., 2.],\n",
       "          [1., 5., 4.],\n",
       "          [3., 4., 0.]]]], grad_fn=<ConvTranspose2DBackward>)"
      ]
     },
     "execution_count": 22,
     "metadata": {},
     "output_type": "execute_result"
    }
   ],
   "source": [
    "kernel = torch.Tensor(1,1,2,2)\n",
    "kernel[0, 0] = torch.tensor([[0., 1.], [1., 0.]]).float()\n",
    "trans = torch.nn.ConvTranspose2d(in_channels=1, out_channels=1, kernel_size=2, stride=1, bias=False)\n",
    "trans.weight = torch.nn.Parameter(kernel)\n",
    "trans(img)"
   ]
  },
  {
   "cell_type": "code",
   "execution_count": 23,
   "metadata": {},
   "outputs": [
    {
     "data": {
      "text/plain": [
       "tensor([[[[0., 0., 0.],\n",
       "          [1., 3., 2.],\n",
       "          [3., 7., 4.]]]], grad_fn=<ConvTranspose2DBackward>)"
      ]
     },
     "execution_count": 23,
     "metadata": {},
     "output_type": "execute_result"
    }
   ],
   "source": [
    "kernel = torch.Tensor(1,1,2,2)\n",
    "kernel[0, 0] = torch.tensor([[0., 0.], [1., 1.]]).float()\n",
    "trans = torch.nn.ConvTranspose2d(in_channels=1, out_channels=1, kernel_size=2, stride=1, bias=False)\n",
    "trans.weight = torch.nn.Parameter(kernel)\n",
    "trans(img)"
   ]
  },
  {
   "cell_type": "code",
   "execution_count": 24,
   "metadata": {},
   "outputs": [
    {
     "data": {
      "text/plain": [
       "tensor([[[[1., 2., 0.],\n",
       "          [3., 5., 2.],\n",
       "          [0., 3., 4.]]]], grad_fn=<ConvTranspose2DBackward>)"
      ]
     },
     "execution_count": 24,
     "metadata": {},
     "output_type": "execute_result"
    }
   ],
   "source": [
    "kernel = torch.Tensor(1,1,2,2)\n",
    "kernel[0, 0] = torch.tensor([[1., 0.], [0., 1.]]).float()\n",
    "trans = torch.nn.ConvTranspose2d(in_channels=1, out_channels=1, kernel_size=2, stride=1, bias=False)\n",
    "trans.weight = torch.nn.Parameter(kernel)\n",
    "trans(img)"
   ]
  },
  {
   "cell_type": "code",
   "execution_count": 25,
   "metadata": {},
   "outputs": [
    {
     "data": {
      "text/plain": [
       "tensor([[[[0., 0., 0., 0.],\n",
       "          [0., 0., 0., 0.],\n",
       "          [0., 0., 1., 2.],\n",
       "          [0., 0., 3., 4.]]]], grad_fn=<ConvTranspose2DBackward>)"
      ]
     },
     "execution_count": 25,
     "metadata": {},
     "output_type": "execute_result"
    }
   ],
   "source": [
    "kernel = torch.Tensor(1,1,3,3)\n",
    "kernel[0, 0] = torch.tensor([[0., 0., 0.], [0., 0., 0.], [0., 0., 1.]]).float()\n",
    "trans = torch.nn.ConvTranspose2d(in_channels=1, out_channels=1, kernel_size=3, stride=1, bias=False)\n",
    "trans.weight = torch.nn.Parameter(kernel)\n",
    "trans(img)"
   ]
  },
  {
   "cell_type": "code",
   "execution_count": 26,
   "metadata": {},
   "outputs": [
    {
     "data": {
      "text/plain": [
       "tensor([[[[0., 0., 0., 0.],\n",
       "          [0., 1., 2., 0.],\n",
       "          [0., 3., 4., 0.],\n",
       "          [0., 0., 0., 0.]]]], grad_fn=<ConvTranspose2DBackward>)"
      ]
     },
     "execution_count": 26,
     "metadata": {},
     "output_type": "execute_result"
    }
   ],
   "source": [
    "kernel = torch.Tensor(1,1,3,3)\n",
    "kernel[0, 0] = torch.tensor([[0., 0., 0.], [0., 1., 0.], [0., 0., 0.]]).float()\n",
    "trans = torch.nn.ConvTranspose2d(in_channels=1, out_channels=1, kernel_size=3, stride=1, bias=False)\n",
    "trans.weight = torch.nn.Parameter(kernel)\n",
    "trans(img)"
   ]
  },
  {
   "cell_type": "code",
   "execution_count": null,
   "metadata": {},
   "outputs": [],
   "source": []
  }
 ],
 "metadata": {
  "kernelspec": {
   "display_name": "Python 3",
   "language": "python",
   "name": "python3"
  },
  "language_info": {
   "codemirror_mode": {
    "name": "ipython",
    "version": 3
   },
   "file_extension": ".py",
   "mimetype": "text/x-python",
   "name": "python",
   "nbconvert_exporter": "python",
   "pygments_lexer": "ipython3",
   "version": "3.6.8"
  }
 },
 "nbformat": 4,
 "nbformat_minor": 2
}
